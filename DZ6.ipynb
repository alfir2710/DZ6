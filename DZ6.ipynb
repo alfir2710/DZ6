{
  "nbformat": 4,
  "nbformat_minor": 0,
  "metadata": {
    "colab": {
      "provenance": [],
      "authorship_tag": "ABX9TyM6YEhBJmJ3Hw8+nJ3Hqg1N",
      "include_colab_link": true
    },
    "kernelspec": {
      "name": "python3",
      "display_name": "Python 3"
    },
    "language_info": {
      "name": "python"
    }
  },
  "cells": [
    {
      "cell_type": "markdown",
      "metadata": {
        "id": "view-in-github",
        "colab_type": "text"
      },
      "source": [
        "<a href=\"https://colab.research.google.com/github/alfir2710/-NEW/blob/main/DZ6.ipynb\" target=\"_parent\"><img src=\"https://colab.research.google.com/assets/colab-badge.svg\" alt=\"Open In Colab\"/></a>"
      ]
    },
    {
      "cell_type": "markdown",
      "source": [
        "Известно, что генеральная совокупность распределена нормально со средним квадратическим отклонением, равным 16.\n",
        "Найти доверительный интервал для оценки математического ожидания a с надежностью 0.95, если выборочная средняя M = 80, а объем выборки n = 256."
      ],
      "metadata": {
        "id": "X_0QEc6jKdMp"
      }
    },
    {
      "cell_type": "code",
      "source": [
        "import numpy as np\n",
        "import scipy.stats as stats"
      ],
      "metadata": {
        "id": "nLJqZQwIKva0"
      },
      "execution_count": 13,
      "outputs": []
    },
    {
      "cell_type": "code",
      "source": [
        "l_border=80-1.96*16/256**0.5"
      ],
      "metadata": {
        "id": "eYjl_Du-KmBZ"
      },
      "execution_count": 1,
      "outputs": []
    },
    {
      "cell_type": "code",
      "source": [
        "r_border=80+1.96*16/256**0.5"
      ],
      "metadata": {
        "id": "i-cnR7elKy2E"
      },
      "execution_count": 3,
      "outputs": []
    },
    {
      "cell_type": "code",
      "source": [
        "print(f'>>> Доверительный интервал: [{l_border} ; {r_border}].')"
      ],
      "metadata": {
        "colab": {
          "base_uri": "https://localhost:8080/"
        },
        "id": "qH41jkh2K3dX",
        "outputId": "b8269171-0e5f-425c-d5ae-18c9683ef4de"
      },
      "execution_count": 4,
      "outputs": [
        {
          "output_type": "stream",
          "name": "stdout",
          "text": [
            ">>> Доверительный интервал: [78.04 ; 81.96].\n"
          ]
        }
      ]
    },
    {
      "cell_type": "markdown",
      "source": [
        "В результате 10 независимых измерений некоторой величины X, выполненных с одинаковой точностью, получены опытные данные:\n",
        "6.9, 6.1, 6.2, 6.8, 7.5, 6.3, 6.4, 6.9, 6.7, 6.1\n",
        "\n",
        "Предполагая, что результаты измерений подчинены нормальному закону распределения вероятностей, оценить истинное значение величины X при помощи доверительного интервала, покрывающего это значение с доверительной вероятностью 0,95."
      ],
      "metadata": {
        "id": "BkUywBeVK8-R"
      }
    },
    {
      "cell_type": "code",
      "source": [
        "array = [6.9, 6.1, 6.2, 6.8, 7.5, 6.3, 6.4, 6.9, 6.7, 6.1]\n",
        "n = len(array)\n",
        "x = np.mean(array)\n",
        "print(f'>>> Среднее арифметическое для выборки: {x}')\n",
        "a = 0.05\n",
        "sigma = np.std(array, ddof=1)\n",
        "print(f'>>> Среднее квадратическое отклонение по выборке(несмещенное): {sigma}')\n",
        "stats = stats.t.ppf( 1-a/2, n-1)\n",
        "print(f'>>> Значение t-критерия для {1-a}% доверительного интервала: {stats}')\n",
        "l_border=x-stats*sigma/np.sqrt(n)\n",
        "r_border=x+stats*sigma/np.sqrt(n)\n",
        "print(f'>>> Доверительный интервал для величины \"X\" составляет: [{l_border:.3f} ; {r_border:.3f}]')"
      ],
      "metadata": {
        "colab": {
          "base_uri": "https://localhost:8080/"
        },
        "id": "GZ2HM8tmMM5U",
        "outputId": "3653852d-b91f-4bf0-aec4-3f3927ecf704"
      },
      "execution_count": 14,
      "outputs": [
        {
          "output_type": "stream",
          "name": "stdout",
          "text": [
            ">>> Среднее арифметическое для выборки: 6.590000000000001\n",
            ">>> Среднее квадратическое отклонение по выборке(несмещенное): 0.4508017549014448\n",
            ">>> Значение t-критерия для 0.95% доверительного интервала: 2.2621571627409915\n",
            ">>> Доверительный интервал для величины \"X\" составляет: [6.268 ; 6.912]\n"
          ]
        }
      ]
    },
    {
      "cell_type": "markdown",
      "source": [
        "Рост дочерей 175, 167, 154, 174, 178, 148, 160, 167, 169, 170  \n",
        "Рост матерей 178, 165, 165, 173, 168, 155, 160, 164, 178, 175  \n",
        "Используя эти данные построить 95% доверительный интервал для разности среднего роста родителей и детей."
      ],
      "metadata": {
        "id": "2yR2HFFRLF9d"
      }
    },
    {
      "cell_type": "code",
      "source": [
        "a = np.array([175, 167, 154, 174, 178, 148, 160, 167, 169, 170])\n",
        "b = np.array([178, 165, 165, 173, 168, 155, 160, 164, 178, 175])\n",
        "\n",
        "print(len(a), len(b))"
      ],
      "metadata": {
        "colab": {
          "base_uri": "https://localhost:8080/"
        },
        "id": "Dckfzl_lMijk",
        "outputId": "baee9523-368b-4196-9a50-d7216803621c"
      },
      "execution_count": 16,
      "outputs": [
        {
          "output_type": "stream",
          "name": "stdout",
          "text": [
            "10 10\n"
          ]
        }
      ]
    },
    {
      "cell_type": "code",
      "source": [
        "x_1 = np.mean(a)\n",
        "x_2 = np.mean(b)\n",
        "print(x_1, x_2)"
      ],
      "metadata": {
        "colab": {
          "base_uri": "https://localhost:8080/"
        },
        "id": "rj7LCxRBMll8",
        "outputId": "a3fe61fd-a9bb-443f-ec56-e438dac2f603"
      },
      "execution_count": 17,
      "outputs": [
        {
          "output_type": "stream",
          "name": "stdout",
          "text": [
            "166.2 168.1\n"
          ]
        }
      ]
    },
    {
      "cell_type": "code",
      "source": [
        "delta = abs(x_1 - x_2)\n",
        "print(delta)  "
      ],
      "metadata": {
        "colab": {
          "base_uri": "https://localhost:8080/"
        },
        "id": "x2sO5Bz6Mr0b",
        "outputId": "a30723b8-170c-46bc-c1b4-fc248d4c0b3d"
      },
      "execution_count": 18,
      "outputs": [
        {
          "output_type": "stream",
          "name": "stdout",
          "text": [
            "1.9000000000000057\n"
          ]
        }
      ]
    },
    {
      "cell_type": "code",
      "source": [
        "d1 = np.var(a, ddof=1)\n",
        "d2 = np.var(b, ddof=1)\n",
        "d = (d1 + d2) / 2\n",
        "print(d)"
      ],
      "metadata": {
        "colab": {
          "base_uri": "https://localhost:8080/"
        },
        "id": "TmWugPUQMuob",
        "outputId": "d8ffe8a3-3d13-46ba-d9b1-46edb58789df"
      },
      "execution_count": 19,
      "outputs": [
        {
          "output_type": "stream",
          "name": "stdout",
          "text": [
            "75.58333333333334\n"
          ]
        }
      ]
    },
    {
      "cell_type": "code",
      "source": [
        "se = np.sqrt(d / len(a) + d / len(b))\n",
        "print(se)"
      ],
      "metadata": {
        "colab": {
          "base_uri": "https://localhost:8080/"
        },
        "id": "bHjlcbaAMxN_",
        "outputId": "4726a4eb-3824-4fb9-fde6-6fb370aac814"
      },
      "execution_count": 20,
      "outputs": [
        {
          "output_type": "stream",
          "name": "stdout",
          "text": [
            "3.8880157750022915\n"
          ]
        }
      ]
    }
  ]
}